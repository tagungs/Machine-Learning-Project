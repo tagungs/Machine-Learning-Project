{
 "cells": [
  {
   "cell_type": "markdown",
   "metadata": {},
   "source": [
    "# TITANIC KAGGLE CHALLENGE\n",
    "\n",
    "Proyek machine learning ini merupakan sebuah masalah yang masuk dalam kompetisi yang diadakan di kaggle.com.\n",
    "Dalam proyek ini, akan digunakan tools dan dasar-dasar machine learning dan visualisasi data.\n",
    "Data yang digunakan diambil dari kaggle, dan berisi beberapa kolom:\n",
    "Survival, pclass, Name, Sex, Age, Age, SibSP, Parch, Ticket, Fare, Cabin, Embarked"
   ]
  },
  {
   "cell_type": "code",
   "execution_count": 357,
   "metadata": {},
   "outputs": [],
   "source": [
    "import pandas as pd\n",
    "import matplotlib.pyplot as plt\n",
    "from sklearn.tree import DecisionTreeClassifier\n",
    "from sklearn.model_selection import train_test_split\n",
    "from sklearn.metrics import accuracy_score"
   ]
  },
  {
   "cell_type": "markdown",
   "metadata": {},
   "source": [
    "### Convert Data\n",
    "Beberapa data di dataset berbentuk string, diantaranya kolom 'Sex' dan 'Embarked'. Untuk menggunakan DecisionTreeClassifier, kedua data tersebut akan diubah menjadi bilangan."
   ]
  },
  {
   "cell_type": "code",
   "execution_count": 358,
   "metadata": {},
   "outputs": [],
   "source": [
    "all_data_raw = pd.read_csv('train.csv')\n",
    "all_data_raw['Sex'] = all_data_raw['Sex'].apply({'male':1, 'female':0}.get)\n",
    "all_data_raw['Embarked'] = all_data_raw['Embarked'].apply({'S':1, 'C':2, 'Q':3}.get)\n",
    "use_data = all_data_raw[['Sex', 'Survived', 'Pclass','Age', 'SibSp', 'Parch', 'Fare', 'Embarked']]"
   ]
  },
  {
   "cell_type": "markdown",
   "metadata": {},
   "source": [
    "### Cleaning Data\n",
    "Berdasarkan inspeksi, ada beberapa data yang memiliki nilai N/A (kosong). Data-data tersebut akan didrop sehingga tidak mengganggu proses modelling."
   ]
  },
  {
   "cell_type": "code",
   "execution_count": 359,
   "metadata": {},
   "outputs": [],
   "source": [
    "data_clean = use_data.dropna(axis='rows') #Buang data dengan nilai tidak lengkap"
   ]
  },
  {
   "cell_type": "markdown",
   "metadata": {},
   "source": [
    "### Visualisasi Data\n",
    "Berikut merupakan sedikit visualisasi data perbandingan dari survival rate berdasarkan gender."
   ]
  },
  {
   "cell_type": "code",
   "execution_count": 360,
   "metadata": {},
   "outputs": [
    {
     "data": {
      "image/png": "[encoded data removed]",
      "text/plain": [
       "<Figure size 432x288 with 2 Axes>"
      ]
     },
     "metadata": {},
     "output_type": "display_data"
    }
   ],
   "source": [
    "m = data_clean['Sex'].isin([1])\n",
    "f = data_clean['Sex'].isin([0])\n",
    "m_survive = data_clean[m]['Survived'].value_counts()\n",
    "f_survive = data_clean[f]['Survived'].value_counts()\n",
    "\n",
    "\n",
    "label = ['Male not Survive', 'Male Survive']\n",
    "fig1, (ax1,ax2) = plt.subplots(1,2)\n",
    "ax1.pie(m_survive , labels=label, shadow = True, autopct='%1.1f%%')\n",
    "\n",
    "\n",
    "label = ['Female not Survive', 'Female Survive']\n",
    "ax2.pie(f_survive , labels=label, shadow = True, autopct='%1.1f%%')\n",
    "\n",
    "\n",
    "plt.title('Survival Rate Based on Gender')\n",
    "plt.show()"
   ]
  },
  {
   "cell_type": "markdown",
   "metadata": {},
   "source": [
    "### Train & Test Model"
   ]
  },
  {
   "cell_type": "code",
   "execution_count": 361,
   "metadata": {},
   "outputs": [
    {
     "data": {
      "text/plain": [
       "0.8041958041958042"
      ]
     },
     "execution_count": 361,
     "metadata": {},
     "output_type": "execute_result"
    }
   ],
   "source": [
    "X = data_clean.drop(columns = ['Survived'])\n",
    "y = data_clean['Survived']\n",
    "X_train, X_test, y_train, y_test = train_test_split(X, y, test_size=0.2)\n",
    "\n",
    "model = DecisionTreeClassifier()\n",
    "model.fit(X_train, y_train)\n",
    "pred = model.predict(X_test)\n",
    "\n",
    "accuracy_score(y_test, pred)"
   ]
  },
  {
   "cell_type": "markdown",
   "metadata": {},
   "source": [
    "Dari penerapan model DecisionTreeClassifier, dari beberapa kali percobaan, hampir seluruh nilai keakuratan lebih dari 70%.\n",
    "Pada beberapa percobaan, nilai keakuratan bisa mencapai 80%.\n",
    "Tentu karna percobaan ini menggunakan model yang paling dasar, hasil masih dapat ditingkatkan dengan penyesuaian parameter atau penggunaan model lain."
   ]
  }
 ],
 "metadata": {
  "kernelspec": {
   "display_name": "Python 3",
   "language": "python",
   "name": "python3"
  },
  "language_info": {
   "codemirror_mode": {
    "name": "ipython",
    "version": 3
   },
   "file_extension": ".py",
   "mimetype": "text/x-python",
   "name": "python",
   "nbconvert_exporter": "python",
   "pygments_lexer": "ipython3",
   "version": "3.7.3"
  }
 },
 "nbformat": 4,
 "nbformat_minor": 2
}
